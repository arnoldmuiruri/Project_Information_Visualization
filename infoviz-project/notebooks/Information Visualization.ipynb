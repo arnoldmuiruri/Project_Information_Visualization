{
 "cells": [
  {
   "metadata": {},
   "cell_type": "markdown",
   "source": [
    "# Information Visualization Project\n",
    "## Analyzing federal job postings in New York\n",
    "### Arnold Muiruri\n"
   ],
   "id": "77901a6a0378c3f"
  },
  {
   "metadata": {
    "ExecuteTime": {
     "end_time": "2025-02-16T23:40:19.184450Z",
     "start_time": "2025-02-16T23:40:19.174404Z"
    }
   },
   "cell_type": "code",
   "source": [
    "## Importing the necessary libraries\n",
    "\n",
    "import polars as pl"
   ],
   "id": "cbf41ea994786aa3",
   "outputs": [],
   "execution_count": 61
  },
  {
   "metadata": {
    "ExecuteTime": {
     "end_time": "2025-02-16T23:40:19.409630Z",
     "start_time": "2025-02-16T23:40:19.196498Z"
    }
   },
   "cell_type": "code",
   "source": "jobs_df = pl.read_csv(\"C:/Users/Arnold/OneDrive/Desktop/Information Visualization/Project/infoviz-project/data/raw/Jobs_NYC_Postings.csv\")\n",
   "id": "308570dfc76ae81",
   "outputs": [],
   "execution_count": 62
  },
  {
   "metadata": {
    "ExecuteTime": {
     "end_time": "2025-02-16T23:40:19.447468Z",
     "start_time": "2025-02-16T23:40:19.429668Z"
    }
   },
   "cell_type": "code",
   "source": "jobs_df.head()",
   "id": "88a0e5e7e059e453",
   "outputs": [
    {
     "data": {
      "text/plain": [
       "shape: (5, 30)\n",
       "┌────────┬────────────┬────────────┬───────────┬───┬───────────┬───────────┬───────────┬───────────┐\n",
       "│ Job ID ┆ Agency     ┆ Posting    ┆ # Of      ┆ … ┆ Posting   ┆ Post      ┆ Posting   ┆ Process   │\n",
       "│ ---    ┆ ---        ┆ Type       ┆ Positions ┆   ┆ Date      ┆ Until     ┆ Updated   ┆ Date      │\n",
       "│ i64    ┆ str        ┆ ---        ┆ ---       ┆   ┆ ---       ┆ ---       ┆ ---       ┆ ---       │\n",
       "│        ┆            ┆ str        ┆ i64       ┆   ┆ str       ┆ str       ┆ str       ┆ str       │\n",
       "╞════════╪════════════╪════════════╪═══════════╪═══╪═══════════╪═══════════╪═══════════╪═══════════╡\n",
       "│ 596449 ┆ DEPT OF    ┆ External   ┆ 1         ┆ … ┆ 08/11/202 ┆ null      ┆ 08/11/202 ┆ 02/10/202 │\n",
       "│        ┆ ENVIRONMEN ┆            ┆           ┆   ┆ 3         ┆           ┆ 3         ┆ 5         │\n",
       "│        ┆ T          ┆            ┆           ┆   ┆           ┆           ┆           ┆           │\n",
       "│        ┆ PROTECTION ┆            ┆           ┆   ┆           ┆           ┆           ┆           │\n",
       "│ 632978 ┆ DEPT OF    ┆ External   ┆ 1         ┆ … ┆ 04/29/202 ┆ null      ┆ 04/29/202 ┆ 02/10/202 │\n",
       "│        ┆ ENVIRONMEN ┆            ┆           ┆   ┆ 4         ┆           ┆ 4         ┆ 5         │\n",
       "│        ┆ T          ┆            ┆           ┆   ┆           ┆           ┆           ┆           │\n",
       "│        ┆ PROTECTION ┆            ┆           ┆   ┆           ┆           ┆           ┆           │\n",
       "│ 648277 ┆ DEPARTMENT ┆ Internal   ┆ 1         ┆ … ┆ 08/22/202 ┆ null      ┆ 08/22/202 ┆ 02/10/202 │\n",
       "│        ┆ OF TRANSPO ┆            ┆           ┆   ┆ 4         ┆           ┆ 4         ┆ 5         │\n",
       "│        ┆ RTATION    ┆            ┆           ┆   ┆           ┆           ┆           ┆           │\n",
       "│ 679139 ┆ DEPT OF    ┆ Internal   ┆ 1         ┆ … ┆ 09/16/202 ┆ 16-SEP-20 ┆ 09/16/202 ┆ 02/10/202 │\n",
       "│        ┆ HEALTH/MEN ┆            ┆           ┆   ┆ 4         ┆ 25        ┆ 4         ┆ 5         │\n",
       "│        ┆ TAL        ┆            ┆           ┆   ┆           ┆           ┆           ┆           │\n",
       "│        ┆ HYGIENE    ┆            ┆           ┆   ┆           ┆           ┆           ┆           │\n",
       "│ 644090 ┆ DEPT OF    ┆ Internal   ┆ 3         ┆ … ┆ 01/22/202 ┆ 22-MAY-20 ┆ 01/22/202 ┆ 02/10/202 │\n",
       "│        ┆ HEALTH/MEN ┆            ┆           ┆   ┆ 5         ┆ 25        ┆ 5         ┆ 5         │\n",
       "│        ┆ TAL        ┆            ┆           ┆   ┆           ┆           ┆           ┆           │\n",
       "│        ┆ HYGIENE    ┆            ┆           ┆   ┆           ┆           ┆           ┆           │\n",
       "└────────┴────────────┴────────────┴───────────┴───┴───────────┴───────────┴───────────┴───────────┘"
      ],
      "text/html": [
       "<div><style>\n",
       ".dataframe > thead > tr,\n",
       ".dataframe > tbody > tr {\n",
       "  text-align: right;\n",
       "  white-space: pre-wrap;\n",
       "}\n",
       "</style>\n",
       "<small>shape: (5, 30)</small><table border=\"1\" class=\"dataframe\"><thead><tr><th>Job ID</th><th>Agency</th><th>Posting Type</th><th># Of Positions</th><th>Business Title</th><th>Civil Service Title</th><th>Title Classification</th><th>Title Code No</th><th>Level</th><th>Job Category</th><th>Full-Time/Part-Time indicator</th><th>Career Level</th><th>Salary Range From</th><th>Salary Range To</th><th>Salary Frequency</th><th>Work Location</th><th>Division/Work Unit</th><th>Job Description</th><th>Minimum Qual Requirements</th><th>Preferred Skills</th><th>Additional Information</th><th>To Apply</th><th>Hours/Shift</th><th>Work Location 1</th><th>Recruitment Contact</th><th>Residency Requirement</th><th>Posting Date</th><th>Post Until</th><th>Posting Updated</th><th>Process Date</th></tr><tr><td>i64</td><td>str</td><td>str</td><td>i64</td><td>str</td><td>str</td><td>str</td><td>str</td><td>str</td><td>str</td><td>str</td><td>str</td><td>f64</td><td>f64</td><td>str</td><td>str</td><td>str</td><td>str</td><td>str</td><td>str</td><td>str</td><td>str</td><td>str</td><td>str</td><td>str</td><td>str</td><td>str</td><td>str</td><td>str</td><td>str</td></tr></thead><tbody><tr><td>596449</td><td>&quot;DEPT OF ENVIRONMENT PROTECTION&quot;</td><td>&quot;External&quot;</td><td>1</td><td>&quot;ACCOUNTABLE MANAGER&quot;</td><td>&quot;ASSOCIATE PROJECT MANAGER&quot;</td><td>&quot;Competitive-1&quot;</td><td>&quot;22427&quot;</td><td>&quot;03&quot;</td><td>&quot;Engineering, Architecture, &amp; P…</td><td>&quot;F&quot;</td><td>&quot;Experienced (non-manager)&quot;</td><td>98470.0</td><td>133496.0</td><td>&quot;Annual&quot;</td><td>&quot;199 River Road North&quot;</td><td>&quot;UPSTATE CAPITAL CONSTR. - IFA&quot;</td><td>&quot;The NYC Department of Environm…</td><td>&quot;Qualification Requirements One…</td><td>&quot;â¢\tEngineering Design and Con…</td><td>null</td><td>&quot;To apply click Apply Now&nbsp;&nbsp;DEP …</td><td>null</td><td>&quot;Delaware Aqueduct Shaft 6 Fiel…</td><td>null</td><td>&quot;New York City Residency is not…</td><td>&quot;08/11/2023&quot;</td><td>null</td><td>&quot;08/11/2023&quot;</td><td>&quot;02/10/2025&quot;</td></tr><tr><td>632978</td><td>&quot;DEPT OF ENVIRONMENT PROTECTION&quot;</td><td>&quot;External&quot;</td><td>1</td><td>&quot;ACCOUNTABLE MANAGER&quot;</td><td>&quot;ASSOCIATE PROJECT MANAGER&quot;</td><td>&quot;Competitive-1&quot;</td><td>&quot;22427&quot;</td><td>&quot;01&quot;</td><td>&quot;Engineering, Architecture, &amp; P…</td><td>&quot;F&quot;</td><td>&quot;Experienced (non-manager)&quot;</td><td>74041.0</td><td>107227.0</td><td>&quot;Annual&quot;</td><td>&quot;199 River Road North&quot;</td><td>&quot;UPSTATE CAPITAL CONSTR. - IFA&quot;</td><td>&quot;The NYC Department of Environm…</td><td>&quot;One year of full-time satisfac…</td><td>null</td><td>null</td><td>null</td><td>null</td><td>null</td><td>null</td><td>&quot;New York City Residency is not…</td><td>&quot;04/29/2024&quot;</td><td>null</td><td>&quot;04/29/2024&quot;</td><td>&quot;02/10/2025&quot;</td></tr><tr><td>648277</td><td>&quot;DEPARTMENT OF TRANSPORTATION&quot;</td><td>&quot;Internal&quot;</td><td>1</td><td>&quot;Gardener&quot;</td><td>&quot;GARDENER&quot;</td><td>&quot;Competitive-1&quot;</td><td>&quot;81310&quot;</td><td>&quot;01&quot;</td><td>&quot;Health Building Operations &amp; M…</td><td>&quot;F&quot;</td><td>&quot;Experienced (non-manager)&quot;</td><td>48860.0</td><td>70321.0</td><td>&quot;Annual&quot;</td><td>&quot;78-88 Park Drive East QueensNY&quot;</td><td>&quot;ART (Kew Loop/Maint Landscape)&quot;</td><td>&quot;Under supervision, candidate w…</td><td>&quot;1. One year of full-time exper…</td><td>null</td><td>&quot;Preference will be given to th…</td><td>&quot;All resumes are to be submitte…</td><td>&quot;40 Hours Per Week&quot;</td><td>null</td><td>null</td><td>&quot;New York City residency is gen…</td><td>&quot;08/22/2024&quot;</td><td>null</td><td>&quot;08/22/2024&quot;</td><td>&quot;02/10/2025&quot;</td></tr><tr><td>679139</td><td>&quot;DEPT OF HEALTH/MENTAL HYGIENE&quot;</td><td>&quot;Internal&quot;</td><td>1</td><td>&quot;Child Care Registrar, Bureau o…</td><td>&quot;COMMUNITY ASSOCIATE&quot;</td><td>&quot;Non-Competitive-5&quot;</td><td>&quot;56057&quot;</td><td>&quot;00&quot;</td><td>&quot;Constituent Services &amp; Communi…</td><td>&quot;F&quot;</td><td>&quot;Experienced (non-manager)&quot;</td><td>43143.0</td><td>49615.0</td><td>&quot;Annual&quot;</td><td>&quot;NYC - All Boroughs&quot;</td><td>&quot;Child Care&quot;</td><td>&quot;PROGRAM AND JOB DESCRIPTION:&nbsp;&nbsp;…</td><td>&quot;Qualification Requirements&nbsp;&nbsp;1.…</td><td>null</td><td>null</td><td>null</td><td>null</td><td>null</td><td>null</td><td>&quot;New York City residency is gen…</td><td>&quot;09/16/2024&quot;</td><td>&quot;16-SEP-2025&quot;</td><td>&quot;09/16/2024&quot;</td><td>&quot;02/10/2025&quot;</td></tr><tr><td>644090</td><td>&quot;DEPT OF HEALTH/MENTAL HYGIENE&quot;</td><td>&quot;Internal&quot;</td><td>3</td><td>&quot;Call Agent&quot;</td><td>&quot;CUSTOMER INFORMATION REP&quot;</td><td>&quot;Competitive-1&quot;</td><td>&quot;60888&quot;</td><td>&quot;01&quot;</td><td>&quot;Communications &amp; Intergovernme…</td><td>&quot;F&quot;</td><td>&quot;Experienced (non-manager)&quot;</td><td>40882.0</td><td>51500.0</td><td>&quot;Annual&quot;</td><td>&quot;42-09 28th Street&quot;</td><td>&quot;Information Support Services&quot;</td><td>&quot;ONLY PERMANENT EMPLOYEES IN TH…</td><td>&quot;1. A baccalaureate degree from…</td><td>&quot;-Strong customer service orien…</td><td>null</td><td>null</td><td>null</td><td>null</td><td>null</td><td>&quot;New York City residency is gen…</td><td>&quot;01/22/2025&quot;</td><td>&quot;22-MAY-2025&quot;</td><td>&quot;01/22/2025&quot;</td><td>&quot;02/10/2025&quot;</td></tr></tbody></table></div>"
      ]
     },
     "execution_count": 63,
     "metadata": {},
     "output_type": "execute_result"
    }
   ],
   "execution_count": 63
  },
  {
   "metadata": {
    "ExecuteTime": {
     "end_time": "2025-02-16T23:40:19.540081Z",
     "start_time": "2025-02-16T23:40:19.519438Z"
    }
   },
   "cell_type": "code",
   "source": "jobs_df.tail()",
   "id": "337de00ff80835e0",
   "outputs": [
    {
     "data": {
      "text/plain": [
       "shape: (5, 30)\n",
       "┌────────┬────────────┬────────────┬───────────┬───┬───────────┬───────────┬───────────┬───────────┐\n",
       "│ Job ID ┆ Agency     ┆ Posting    ┆ # Of      ┆ … ┆ Posting   ┆ Post      ┆ Posting   ┆ Process   │\n",
       "│ ---    ┆ ---        ┆ Type       ┆ Positions ┆   ┆ Date      ┆ Until     ┆ Updated   ┆ Date      │\n",
       "│ i64    ┆ str        ┆ ---        ┆ ---       ┆   ┆ ---       ┆ ---       ┆ ---       ┆ ---       │\n",
       "│        ┆            ┆ str        ┆ i64       ┆   ┆ str       ┆ str       ┆ str       ┆ str       │\n",
       "╞════════╪════════════╪════════════╪═══════════╪═══╪═══════════╪═══════════╪═══════════╪═══════════╡\n",
       "│ 637724 ┆ DEPARTMENT ┆ External   ┆ 1         ┆ … ┆ 10/25/202 ┆ null      ┆ 10/25/202 ┆ 02/10/202 │\n",
       "│        ┆ OF TRANSPO ┆            ┆           ┆   ┆ 4         ┆           ┆ 4         ┆ 5         │\n",
       "│        ┆ RTATION    ┆            ┆           ┆   ┆           ┆           ┆           ┆           │\n",
       "│ 579982 ┆ DEPT OF    ┆ External   ┆ 8         ┆ … ┆ 03/24/202 ┆ null      ┆ 06/30/202 ┆ 02/10/202 │\n",
       "│        ┆ ENVIRONMEN ┆            ┆           ┆   ┆ 3         ┆           ┆ 3         ┆ 5         │\n",
       "│        ┆ T          ┆            ┆           ┆   ┆           ┆           ┆           ┆           │\n",
       "│        ┆ PROTECTION ┆            ┆           ┆   ┆           ┆           ┆           ┆           │\n",
       "│ 620082 ┆ DEPT OF    ┆ Internal   ┆ 1         ┆ … ┆ 02/05/202 ┆ 06-APR-20 ┆ 02/05/202 ┆ 02/10/202 │\n",
       "│        ┆ HEALTH/MEN ┆            ┆           ┆   ┆ 5         ┆ 25        ┆ 5         ┆ 5         │\n",
       "│        ┆ TAL        ┆            ┆           ┆   ┆           ┆           ┆           ┆           │\n",
       "│        ┆ HYGIENE    ┆            ┆           ┆   ┆           ┆           ┆           ┆           │\n",
       "│ 680907 ┆ DEPARTMENT ┆ Internal   ┆ 1         ┆ … ┆ 10/16/202 ┆ null      ┆ 12/18/202 ┆ 02/10/202 │\n",
       "│        ┆ OF TRANSPO ┆            ┆           ┆   ┆ 4         ┆           ┆ 4         ┆ 5         │\n",
       "│        ┆ RTATION    ┆            ┆           ┆   ┆           ┆           ┆           ┆           │\n",
       "│ 647715 ┆ DEPT OF    ┆ External   ┆ 1         ┆ … ┆ 01/23/202 ┆ 24-MAR-20 ┆ 01/23/202 ┆ 02/10/202 │\n",
       "│        ┆ CITYWIDE   ┆            ┆           ┆   ┆ 5         ┆ 25        ┆ 5         ┆ 5         │\n",
       "│        ┆ ADMIN SVCS ┆            ┆           ┆   ┆           ┆           ┆           ┆           │\n",
       "└────────┴────────────┴────────────┴───────────┴───┴───────────┴───────────┴───────────┴───────────┘"
      ],
      "text/html": [
       "<div><style>\n",
       ".dataframe > thead > tr,\n",
       ".dataframe > tbody > tr {\n",
       "  text-align: right;\n",
       "  white-space: pre-wrap;\n",
       "}\n",
       "</style>\n",
       "<small>shape: (5, 30)</small><table border=\"1\" class=\"dataframe\"><thead><tr><th>Job ID</th><th>Agency</th><th>Posting Type</th><th># Of Positions</th><th>Business Title</th><th>Civil Service Title</th><th>Title Classification</th><th>Title Code No</th><th>Level</th><th>Job Category</th><th>Full-Time/Part-Time indicator</th><th>Career Level</th><th>Salary Range From</th><th>Salary Range To</th><th>Salary Frequency</th><th>Work Location</th><th>Division/Work Unit</th><th>Job Description</th><th>Minimum Qual Requirements</th><th>Preferred Skills</th><th>Additional Information</th><th>To Apply</th><th>Hours/Shift</th><th>Work Location 1</th><th>Recruitment Contact</th><th>Residency Requirement</th><th>Posting Date</th><th>Post Until</th><th>Posting Updated</th><th>Process Date</th></tr><tr><td>i64</td><td>str</td><td>str</td><td>i64</td><td>str</td><td>str</td><td>str</td><td>str</td><td>str</td><td>str</td><td>str</td><td>str</td><td>f64</td><td>f64</td><td>str</td><td>str</td><td>str</td><td>str</td><td>str</td><td>str</td><td>str</td><td>str</td><td>str</td><td>str</td><td>str</td><td>str</td><td>str</td><td>str</td><td>str</td><td>str</td></tr></thead><tbody><tr><td>637724</td><td>&quot;DEPARTMENT OF TRANSPORTATION&quot;</td><td>&quot;External&quot;</td><td>1</td><td>&quot;Energy Project Manager&quot;</td><td>&quot;ASSISTANT ELECTRICAL ENGINEER&quot;</td><td>&quot;Competitive-1&quot;</td><td>&quot;20310&quot;</td><td>&quot;00&quot;</td><td>&quot;Engineering, Architecture, &amp; P…</td><td>&quot;F&quot;</td><td>&quot;Experienced (non-manager)&quot;</td><td>62370.0</td><td>71726.0</td><td>&quot;Annual&quot;</td><td>&quot;55 Water St Ny Ny&quot;</td><td>&quot;Facilities Management&quot;</td><td>&quot;***IN ORDER TO BE CONSIDERED F…</td><td>&quot;1. A baccalaureate degree in e…</td><td>&quot;The ideal candidate will combi…</td><td>null</td><td>&quot;To Apply All resumes are to be…</td><td>null</td><td>null</td><td>null</td><td>&quot;New York City Residency is not…</td><td>&quot;10/25/2024&quot;</td><td>null</td><td>&quot;10/25/2024&quot;</td><td>&quot;02/10/2025&quot;</td></tr><tr><td>579982</td><td>&quot;DEPT OF ENVIRONMENT PROTECTION&quot;</td><td>&quot;External&quot;</td><td>8</td><td>&quot;Civil Engineering Intern&quot;</td><td>&quot;CIVIL ENGINEERING INTERN&quot;</td><td>&quot;Competitive-1&quot;</td><td>&quot;20202&quot;</td><td>&quot;00&quot;</td><td>&quot;Engineering, Architecture, &amp; P…</td><td>&quot;F&quot;</td><td>&quot;Entry-Level&quot;</td><td>51413.0</td><td>59125.0</td><td>&quot;Annual&quot;</td><td>&quot;356 Flushing Ave, Brooklyn&quot;</td><td>&quot;SHAFT MAINTENANCE&quot;</td><td>&quot;The NYC Department of Environm…</td><td>&quot;1. A baccalaureate degree in c…</td><td>&quot;1. NYS Driverâs License or a…</td><td>&quot;Civil Engineering Interns perf…</td><td>&quot;Click the Apply Now button&quot;</td><td>null</td><td>null</td><td>null</td><td>&quot;New York City Residency is not…</td><td>&quot;03/24/2023&quot;</td><td>null</td><td>&quot;06/30/2023&quot;</td><td>&quot;02/10/2025&quot;</td></tr><tr><td>620082</td><td>&quot;DEPT OF HEALTH/MENTAL HYGIENE&quot;</td><td>&quot;Internal&quot;</td><td>1</td><td>&quot;Program Specialist, Treatment …</td><td>&quot;SPEC CONSULTANT (MHSS) (AL 2)&quot;</td><td>&quot;Competitive-1&quot;</td><td>&quot;5100C&quot;</td><td>&quot;02&quot;</td><td>&quot;Constituent Services &amp; Communi…</td><td>&quot;F&quot;</td><td>&quot;Experienced (non-manager)&quot;</td><td>77998.0</td><td>92389.0</td><td>&quot;Annual&quot;</td><td>&quot;42-09 28th Street&quot;</td><td>&quot;Mental Health&quot;</td><td>&quot;ONLY PERMANENT EMPLOYEES IN TH…</td><td>&quot;A baccalaureate degree from an…</td><td>&quot;- The ideal candidate will pos…</td><td>&quot;**IMPORTANT NOTES TO ALL CANDI…</td><td>&quot;Apply online with a cover lett…</td><td>null</td><td>null</td><td>null</td><td>&quot;New York City residency is gen…</td><td>&quot;02/05/2025&quot;</td><td>&quot;06-APR-2025&quot;</td><td>&quot;02/05/2025&quot;</td><td>&quot;02/10/2025&quot;</td></tr><tr><td>680907</td><td>&quot;DEPARTMENT OF TRANSPORTATION&quot;</td><td>&quot;Internal&quot;</td><td>1</td><td>&quot;Economic Analyst&quot;</td><td>&quot;CITY RESEARCH SCIENTIST&quot;</td><td>&quot;Non-Competitive-5&quot;</td><td>&quot;21744&quot;</td><td>&quot;02&quot;</td><td>&quot;Policy, Research &amp; Analysis&quot;</td><td>&quot;F&quot;</td><td>&quot;Experienced (non-manager)&quot;</td><td>84981.0</td><td>106654.0</td><td>&quot;Annual&quot;</td><td>&quot;55 Water St Ny Ny&quot;</td><td>&quot;Policy&quot;</td><td>&quot;The New York City Department o…</td><td>&quot;1.&nbsp;&nbsp;For Assignment Level I (on…</td><td>&quot;The preferred candidate is a w…</td><td>null</td><td>&quot;All resumes are to be submitte…</td><td>&quot;35 hours per week&quot;</td><td>&quot;55 Water Street, 9th Floor, Ne…</td><td>null</td><td>&quot;New York City residency is gen…</td><td>&quot;10/16/2024&quot;</td><td>null</td><td>&quot;12/18/2024&quot;</td><td>&quot;02/10/2025&quot;</td></tr><tr><td>647715</td><td>&quot;DEPT OF CITYWIDE ADMIN SVCS&quot;</td><td>&quot;External&quot;</td><td>1</td><td>&quot;Furniture Coordinator&quot;</td><td>&quot;ADMINISTRATIVE SPACE ANALYST (&quot;</td><td>&quot;Competitive-1&quot;</td><td>&quot;1003D&quot;</td><td>&quot;00&quot;</td><td>&quot;Engineering, Architecture, &amp; P…</td><td>&quot;F&quot;</td><td>&quot;Experienced (non-manager)&quot;</td><td>64142.0</td><td>93073.0</td><td>&quot;Annual&quot;</td><td>&quot;1 Centre St., N.Y.&quot;</td><td>&quot;Res/Design &amp; Proj Mgmt&quot;</td><td>&quot;DCAS&#x27;s mission is to make city…</td><td>&quot;1. A baccalaureate degree from…</td><td>&quot;â¢ Bachelor degree in Interio…</td><td>null</td><td>&quot;Please go to www.nyc.gov/jobs …</td><td>null</td><td>null</td><td>null</td><td>&quot;New York City residency is gen…</td><td>&quot;01/23/2025&quot;</td><td>&quot;24-MAR-2025&quot;</td><td>&quot;01/23/2025&quot;</td><td>&quot;02/10/2025&quot;</td></tr></tbody></table></div>"
      ]
     },
     "execution_count": 64,
     "metadata": {},
     "output_type": "execute_result"
    }
   ],
   "execution_count": 64
  },
  {
   "metadata": {
    "ExecuteTime": {
     "end_time": "2025-02-16T23:40:19.737134Z",
     "start_time": "2025-02-16T23:40:19.666158Z"
    }
   },
   "cell_type": "code",
   "source": [
    "## Checking the summaries of the data\n",
    "\n",
    "jobs_df.describe()\n"
   ],
   "id": "7de86f0be33ea500",
   "outputs": [
    {
     "data": {
      "text/plain": [
       "shape: (9, 31)\n",
       "┌───────────┬───────────┬───────────┬───────────┬───┬───────────┬───────────┬───────────┬──────────┐\n",
       "│ statistic ┆ Job ID    ┆ Agency    ┆ Posting   ┆ … ┆ Posting   ┆ Post      ┆ Posting   ┆ Process  │\n",
       "│ ---       ┆ ---       ┆ ---       ┆ Type      ┆   ┆ Date      ┆ Until     ┆ Updated   ┆ Date     │\n",
       "│ str       ┆ f64       ┆ str       ┆ ---       ┆   ┆ ---       ┆ ---       ┆ ---       ┆ ---      │\n",
       "│           ┆           ┆           ┆ str       ┆   ┆ str       ┆ str       ┆ str       ┆ str      │\n",
       "╞═══════════╪═══════════╪═══════════╪═══════════╪═══╪═══════════╪═══════════╪═══════════╪══════════╡\n",
       "│ count     ┆ 6157.0    ┆ 6157      ┆ 6157      ┆ … ┆ 6157      ┆ 2092      ┆ 6157      ┆ 6157     │\n",
       "│ null_coun ┆ 0.0       ┆ 0         ┆ 0         ┆ … ┆ 0         ┆ 4065      ┆ 0         ┆ 0        │\n",
       "│ t         ┆           ┆           ┆           ┆   ┆           ┆           ┆           ┆          │\n",
       "│ mean      ┆ 652217.19 ┆ null      ┆ null      ┆ … ┆ null      ┆ null      ┆ null      ┆ null     │\n",
       "│           ┆ 6037      ┆           ┆           ┆   ┆           ┆           ┆           ┆          │\n",
       "│ std       ┆ 47439.588 ┆ null      ┆ null      ┆ … ┆ null      ┆ null      ┆ null      ┆ null     │\n",
       "│           ┆ 336       ┆           ┆           ┆   ┆           ┆           ┆           ┆          │\n",
       "│ min       ┆ 469953.0  ┆ ADMIN FOR ┆ External  ┆ … ┆ 01/01/202 ┆ 01-APR-20 ┆ 01/02/202 ┆ 02/10/20 │\n",
       "│           ┆           ┆ CHILDREN' ┆           ┆   ┆ 5         ┆ 25        ┆ 4         ┆ 25       │\n",
       "│           ┆           ┆ S SVCS    ┆           ┆   ┆           ┆           ┆           ┆          │\n",
       "│ 25%       ┆ 629394.0  ┆ null      ┆ null      ┆ … ┆ null      ┆ null      ┆ null      ┆ null     │\n",
       "│ 50%       ┆ 657395.0  ┆ null      ┆ null      ┆ … ┆ null      ┆ null      ┆ null      ┆ null     │\n",
       "│ 75%       ┆ 692867.0  ┆ null      ┆ null      ┆ … ┆ null      ┆ null      ┆ null      ┆ null     │\n",
       "│ max       ┆ 702077.0  ┆ TECHNOLOG ┆ Internal  ┆ … ┆ 12/31/202 ┆ 31-OCT-20 ┆ 12/31/202 ┆ 02/10/20 │\n",
       "│           ┆           ┆ Y & INNOV ┆           ┆   ┆ 4         ┆ 25        ┆ 4         ┆ 25       │\n",
       "│           ┆           ┆ ATION     ┆           ┆   ┆           ┆           ┆           ┆          │\n",
       "└───────────┴───────────┴───────────┴───────────┴───┴───────────┴───────────┴───────────┴──────────┘"
      ],
      "text/html": [
       "<div><style>\n",
       ".dataframe > thead > tr,\n",
       ".dataframe > tbody > tr {\n",
       "  text-align: right;\n",
       "  white-space: pre-wrap;\n",
       "}\n",
       "</style>\n",
       "<small>shape: (9, 31)</small><table border=\"1\" class=\"dataframe\"><thead><tr><th>statistic</th><th>Job ID</th><th>Agency</th><th>Posting Type</th><th># Of Positions</th><th>Business Title</th><th>Civil Service Title</th><th>Title Classification</th><th>Title Code No</th><th>Level</th><th>Job Category</th><th>Full-Time/Part-Time indicator</th><th>Career Level</th><th>Salary Range From</th><th>Salary Range To</th><th>Salary Frequency</th><th>Work Location</th><th>Division/Work Unit</th><th>Job Description</th><th>Minimum Qual Requirements</th><th>Preferred Skills</th><th>Additional Information</th><th>To Apply</th><th>Hours/Shift</th><th>Work Location 1</th><th>Recruitment Contact</th><th>Residency Requirement</th><th>Posting Date</th><th>Post Until</th><th>Posting Updated</th><th>Process Date</th></tr><tr><td>str</td><td>f64</td><td>str</td><td>str</td><td>f64</td><td>str</td><td>str</td><td>str</td><td>str</td><td>str</td><td>str</td><td>str</td><td>str</td><td>f64</td><td>f64</td><td>str</td><td>str</td><td>str</td><td>str</td><td>str</td><td>str</td><td>str</td><td>str</td><td>str</td><td>str</td><td>str</td><td>str</td><td>str</td><td>str</td><td>str</td><td>str</td></tr></thead><tbody><tr><td>&quot;count&quot;</td><td>6157.0</td><td>&quot;6157&quot;</td><td>&quot;6157&quot;</td><td>6157.0</td><td>&quot;6157&quot;</td><td>&quot;6157&quot;</td><td>&quot;6157&quot;</td><td>&quot;6157&quot;</td><td>&quot;6157&quot;</td><td>&quot;6157&quot;</td><td>&quot;6157&quot;</td><td>&quot;6157&quot;</td><td>6157.0</td><td>6157.0</td><td>&quot;6157&quot;</td><td>&quot;6157&quot;</td><td>&quot;6157&quot;</td><td>&quot;6157&quot;</td><td>&quot;6085&quot;</td><td>&quot;3742&quot;</td><td>&quot;2831&quot;</td><td>&quot;3775&quot;</td><td>&quot;1472&quot;</td><td>&quot;1803&quot;</td><td>&quot;0&quot;</td><td>&quot;6157&quot;</td><td>&quot;6157&quot;</td><td>&quot;2092&quot;</td><td>&quot;6157&quot;</td><td>&quot;6157&quot;</td></tr><tr><td>&quot;null_count&quot;</td><td>0.0</td><td>&quot;0&quot;</td><td>&quot;0&quot;</td><td>0.0</td><td>&quot;0&quot;</td><td>&quot;0&quot;</td><td>&quot;0&quot;</td><td>&quot;0&quot;</td><td>&quot;0&quot;</td><td>&quot;0&quot;</td><td>&quot;0&quot;</td><td>&quot;0&quot;</td><td>0.0</td><td>0.0</td><td>&quot;0&quot;</td><td>&quot;0&quot;</td><td>&quot;0&quot;</td><td>&quot;0&quot;</td><td>&quot;72&quot;</td><td>&quot;2415&quot;</td><td>&quot;3326&quot;</td><td>&quot;2382&quot;</td><td>&quot;4685&quot;</td><td>&quot;4354&quot;</td><td>&quot;6157&quot;</td><td>&quot;0&quot;</td><td>&quot;0&quot;</td><td>&quot;4065&quot;</td><td>&quot;0&quot;</td><td>&quot;0&quot;</td></tr><tr><td>&quot;mean&quot;</td><td>652217.196037</td><td>null</td><td>null</td><td>2.36154</td><td>null</td><td>null</td><td>null</td><td>null</td><td>null</td><td>null</td><td>null</td><td>null</td><td>65726.628327</td><td>90887.206191</td><td>null</td><td>null</td><td>null</td><td>null</td><td>null</td><td>null</td><td>null</td><td>null</td><td>null</td><td>null</td><td>null</td><td>null</td><td>null</td><td>null</td><td>null</td><td>null</td></tr><tr><td>&quot;std&quot;</td><td>47439.588336</td><td>null</td><td>null</td><td>8.757316</td><td>null</td><td>null</td><td>null</td><td>null</td><td>null</td><td>null</td><td>null</td><td>null</td><td>32834.798921</td><td>50513.139719</td><td>null</td><td>null</td><td>null</td><td>null</td><td>null</td><td>null</td><td>null</td><td>null</td><td>null</td><td>null</td><td>null</td><td>null</td><td>null</td><td>null</td><td>null</td><td>null</td></tr><tr><td>&quot;min&quot;</td><td>469953.0</td><td>&quot;ADMIN FOR CHILDREN&#x27;S SVCS&quot;</td><td>&quot;External&quot;</td><td>1.0</td><td>&quot;.NET Developer,&nbsp;&nbsp;Bureau of App…</td><td>&quot;ACCOUNTANT&quot;</td><td>&quot;Competitive-1&quot;</td><td>&quot;03647&quot;</td><td>&quot;00&quot;</td><td>&quot;Administration &amp; Human Resourc…</td><td>&quot;F&quot;</td><td>&quot;Entry-Level&quot;</td><td>0.0</td><td>15.45</td><td>&quot;Annual&quot;</td><td>&quot;1 Battery Park Plaza&quot;</td><td>&quot;44th Precinct - Civilian/Cadet&quot;</td><td>&quot;* IMPORTANT NOTE** Only those …</td><td>&quot;(1) A baccalaureate degree fro…</td><td>&quot;* Knowledge and experience wor…</td><td>&quot;#: O-19&quot;</td><td>&quot;* Interested applicants with o…</td><td>&quot;0700X1500 - RDO SATURDAY/SUNDA…</td><td>&quot;(Bronx)- 2500 Halsey St (Brook…</td><td>null</td><td>&quot;*New York City residency is re…</td><td>&quot;01/01/2025&quot;</td><td>&quot;01-APR-2025&quot;</td><td>&quot;01/02/2024&quot;</td><td>&quot;02/10/2025&quot;</td></tr><tr><td>&quot;25%&quot;</td><td>629394.0</td><td>null</td><td>null</td><td>1.0</td><td>null</td><td>null</td><td>null</td><td>null</td><td>null</td><td>null</td><td>null</td><td>null</td><td>53370.0</td><td>64760.0</td><td>null</td><td>null</td><td>null</td><td>null</td><td>null</td><td>null</td><td>null</td><td>null</td><td>null</td><td>null</td><td>null</td><td>null</td><td>null</td><td>null</td><td>null</td><td>null</td></tr><tr><td>&quot;50%&quot;</td><td>657395.0</td><td>null</td><td>null</td><td>1.0</td><td>null</td><td>null</td><td>null</td><td>null</td><td>null</td><td>null</td><td>null</td><td>null</td><td>64242.0</td><td>86804.0</td><td>null</td><td>null</td><td>null</td><td>null</td><td>null</td><td>null</td><td>null</td><td>null</td><td>null</td><td>null</td><td>null</td><td>null</td><td>null</td><td>null</td><td>null</td><td>null</td></tr><tr><td>&quot;75%&quot;</td><td>692867.0</td><td>null</td><td>null</td><td>1.0</td><td>null</td><td>null</td><td>null</td><td>null</td><td>null</td><td>null</td><td>null</td><td>null</td><td>81083.0</td><td>115000.0</td><td>null</td><td>null</td><td>null</td><td>null</td><td>null</td><td>null</td><td>null</td><td>null</td><td>null</td><td>null</td><td>null</td><td>null</td><td>null</td><td>null</td><td>null</td><td>null</td></tr><tr><td>&quot;max&quot;</td><td>702077.0</td><td>&quot;TECHNOLOGY &amp; INNOVATION&quot;</td><td>&quot;Internal&quot;</td><td>243.0</td><td>&quot;Zoning Team Leader&quot;</td><td>&quot;YOUTH DEVELOPMENT SPECIALIST&quot;</td><td>&quot;Pending Classification-2&quot;</td><td>&quot;95917&quot;</td><td>&quot;MY&quot;</td><td>&quot;Technology, Data &amp; Innovation …</td><td>&quot;P&quot;</td><td>&quot;Student&quot;</td><td>275000.0</td><td>283000.0</td><td>&quot;Hourly&quot;</td><td>&quot;Whitman Houses&quot;</td><td>&quot;off of Veter Public Health S&quot;</td><td>&quot;â¢tMPORTANT NOTE: Only those …</td><td>&quot;â¢ A graduate degree from an …</td><td>&quot;â¢Proven track record of proj…</td><td>&quot;â¢ ONLY OPEN TO CITY EMPLOYEE…</td><td>&quot;â¢\tLitigation experience;&nbsp;&nbsp;â…</td><td>&quot;â¢&nbsp;&nbsp;Due to the necessary tech…</td><td>&quot;various&quot;</td><td>null</td><td>&quot;â¢\tCity Residency is not requ…</td><td>&quot;12/31/2024&quot;</td><td>&quot;31-OCT-2025&quot;</td><td>&quot;12/31/2024&quot;</td><td>&quot;02/10/2025&quot;</td></tr></tbody></table></div>"
      ]
     },
     "execution_count": 65,
     "metadata": {},
     "output_type": "execute_result"
    }
   ],
   "execution_count": 65
  },
  {
   "metadata": {
    "ExecuteTime": {
     "end_time": "2025-02-16T23:40:20.350011Z",
     "start_time": "2025-02-16T23:40:20.184299Z"
    }
   },
   "cell_type": "code",
   "source": [
    "## Checking the unique values per row\n",
    "\n",
    "count_unique_rows  = {}\n",
    "\n",
    "\n",
    "for column in jobs_df.columns:\n",
    "    count_unique_rows[column] = jobs_df[column].n_unique()\n",
    "\n",
    "count_unique_df = pl.DataFrame({\"column\":count_unique_rows.keys(), \"unique_values\":count_unique_rows.values()})\n",
    "count_unique_df"
   ],
   "id": "7daa1e150b21dbe3",
   "outputs": [
    {
     "data": {
      "text/plain": [
       "shape: (30, 2)\n",
       "┌───────────────────────┬───────────────┐\n",
       "│ column                ┆ unique_values │\n",
       "│ ---                   ┆ ---           │\n",
       "│ str                   ┆ i64           │\n",
       "╞═══════════════════════╪═══════════════╡\n",
       "│ Job ID                ┆ 3130          │\n",
       "│ Agency                ┆ 65            │\n",
       "│ Posting Type          ┆ 2             │\n",
       "│ # Of Positions        ┆ 34            │\n",
       "│ Business Title        ┆ 2089          │\n",
       "│ …                     ┆ …             │\n",
       "│ Residency Requirement ┆ 72            │\n",
       "│ Posting Date          ┆ 547           │\n",
       "│ Post Until            ┆ 241           │\n",
       "│ Posting Updated       ┆ 512           │\n",
       "│ Process Date          ┆ 1             │\n",
       "└───────────────────────┴───────────────┘"
      ],
      "text/html": [
       "<div><style>\n",
       ".dataframe > thead > tr,\n",
       ".dataframe > tbody > tr {\n",
       "  text-align: right;\n",
       "  white-space: pre-wrap;\n",
       "}\n",
       "</style>\n",
       "<small>shape: (30, 2)</small><table border=\"1\" class=\"dataframe\"><thead><tr><th>column</th><th>unique_values</th></tr><tr><td>str</td><td>i64</td></tr></thead><tbody><tr><td>&quot;Job ID&quot;</td><td>3130</td></tr><tr><td>&quot;Agency&quot;</td><td>65</td></tr><tr><td>&quot;Posting Type&quot;</td><td>2</td></tr><tr><td>&quot;# Of Positions&quot;</td><td>34</td></tr><tr><td>&quot;Business Title&quot;</td><td>2089</td></tr><tr><td>&hellip;</td><td>&hellip;</td></tr><tr><td>&quot;Residency Requirement&quot;</td><td>72</td></tr><tr><td>&quot;Posting Date&quot;</td><td>547</td></tr><tr><td>&quot;Post Until&quot;</td><td>241</td></tr><tr><td>&quot;Posting Updated&quot;</td><td>512</td></tr><tr><td>&quot;Process Date&quot;</td><td>1</td></tr></tbody></table></div>"
      ]
     },
     "execution_count": 66,
     "metadata": {},
     "output_type": "execute_result"
    }
   ],
   "execution_count": 66
  },
  {
   "metadata": {
    "ExecuteTime": {
     "end_time": "2025-02-16T23:48:05.194781Z",
     "start_time": "2025-02-16T23:48:05.102766Z"
    }
   },
   "cell_type": "code",
   "source": [
    "jobs_cleaned = (\n",
    "    jobs_df\n",
    "    .unique()\n",
    "    .group_by(\"Job ID\")\n",
    "    .agg([\n",
    "        pl.exclude([\"Posting Date\", \"Posting Type\"]).first(),\n",
    "        pl.col(\"Posting Date\").min(),\n",
    "        pl.col(\"Posting Type\").unique().alias(\"Posting Type\")\n",
    "    ])\n",
    "    .with_columns([\n",
    "        # Handle Posting Type transformation\n",
    "        pl.when(\n",
    "            pl.col(\"Posting Type\").list.contains(\"Internal\") &\n",
    "            pl.col(\"Posting Type\").list.contains(\"External\")\n",
    "        )\n",
    "        .then(pl.lit([\"Internal/External\"]))\n",
    "        .otherwise(pl.col(\"Posting Type\"))\n",
    "        .alias(\"Posting Type\"),\n",
    "\n",
    "        # Salary Range From transformation\n",
    "        pl.when(pl.col(\"Salary Frequency\").str.contains(\"Hourly\"))\n",
    "        .then(pl.col(\"Salary Range From\") * 52 * 40)\n",
    "        .otherwise(pl.col(\"Salary Range From\"))\n",
    "        .alias(\"Salary Range From\"),\n",
    "\n",
    "        # Salary Range To transformation\n",
    "        pl.when(pl.col(\"Salary Frequency\").str.contains(\"Hourly\"))\n",
    "        .then(pl.col(\"Salary Range To\") * 52 * 40)\n",
    "        .otherwise(pl.col(\"Salary Range To\"))\n",
    "        .alias(\"Salary Range To\"),\n",
    "\n",
    "        # Salary Frequency transformation\n",
    "        pl.when(pl.col(\"Salary Frequency\").str.contains(\"Hourly\"))\n",
    "        .then(pl.lit(\"Annual\"))\n",
    "        .otherwise(pl.col(\"Salary Frequency\"))\n",
    "        .alias(\"Salary Frequency\")\n",
    "    ])\n",
    "    .explode(\"Posting Type\")\n",
    "    .sort(\"Posting Date\")\n",
    ")"
   ],
   "id": "ad87a12fe4f9633b",
   "outputs": [],
   "execution_count": 76
  },
  {
   "metadata": {
    "ExecuteTime": {
     "end_time": "2025-02-16T23:48:18.845803Z",
     "start_time": "2025-02-16T23:48:18.829823Z"
    }
   },
   "cell_type": "code",
   "source": "jobs_cleaned.head()",
   "id": "c6bafbaa3af1fc0a",
   "outputs": [
    {
     "data": {
      "text/plain": [
       "shape: (5, 30)\n",
       "┌────────┬────────────┬────────────┬───────────┬───┬───────────┬───────────┬───────────┬───────────┐\n",
       "│ Job ID ┆ Agency     ┆ # Of       ┆ Business  ┆ … ┆ Posting   ┆ Process   ┆ Posting   ┆ Posting   │\n",
       "│ ---    ┆ ---        ┆ Positions  ┆ Title     ┆   ┆ Updated   ┆ Date      ┆ Date      ┆ Type      │\n",
       "│ i64    ┆ str        ┆ ---        ┆ ---       ┆   ┆ ---       ┆ ---       ┆ ---       ┆ ---       │\n",
       "│        ┆            ┆ i64        ┆ str       ┆   ┆ str       ┆ str       ┆ str       ┆ str       │\n",
       "╞════════╪════════════╪════════════╪═══════════╪═══╪═══════════╪═══════════╪═══════════╪═══════════╡\n",
       "│ 695632 ┆ DEPARTMENT ┆ 1          ┆ Energy    ┆ … ┆ 01/17/202 ┆ 02/10/202 ┆ 01/01/202 ┆ Internal/ │\n",
       "│        ┆ OF TRANSPO ┆            ┆ Analyst   ┆   ┆ 5         ┆ 5         ┆ 5         ┆ External  │\n",
       "│        ┆ RTATION    ┆            ┆           ┆   ┆           ┆           ┆           ┆           │\n",
       "│ 615441 ┆ DEPT OF    ┆ 1          ┆ ACCOUNTAB ┆ … ┆ 01/02/202 ┆ 02/10/202 ┆ 01/02/202 ┆ Internal/ │\n",
       "│        ┆ ENVIRONMEN ┆            ┆ LE        ┆   ┆ 4         ┆ 5         ┆ 4         ┆ External  │\n",
       "│        ┆ T          ┆            ┆ MANAGER   ┆   ┆           ┆           ┆           ┆           │\n",
       "│        ┆ PROTECTION ┆            ┆           ┆   ┆           ┆           ┆           ┆           │\n",
       "│ 619255 ┆ DEPT OF    ┆ 1          ┆ Chief     ┆ … ┆ 03/04/202 ┆ 02/10/202 ┆ 01/02/202 ┆ Internal  │\n",
       "│        ┆ ENVIRONMEN ┆            ┆ Inspector ┆   ┆ 4         ┆ 5         ┆ 4         ┆           │\n",
       "│        ┆ T          ┆            ┆           ┆   ┆           ┆           ┆           ┆           │\n",
       "│        ┆ PROTECTION ┆            ┆           ┆   ┆           ┆           ┆           ┆           │\n",
       "│ 614778 ┆ DEPT OF    ┆ 1          ┆ ACCOUNTAB ┆ … ┆ 01/02/202 ┆ 02/10/202 ┆ 01/02/202 ┆ Internal/ │\n",
       "│        ┆ ENVIRONMEN ┆            ┆ LE        ┆   ┆ 4         ┆ 5         ┆ 4         ┆ External  │\n",
       "│        ┆ T          ┆            ┆ MANAGER   ┆   ┆           ┆           ┆           ┆           │\n",
       "│        ┆ PROTECTION ┆            ┆           ┆   ┆           ┆           ┆           ┆           │\n",
       "│ 618360 ┆ DEPT OF    ┆ 1          ┆ ACCOUNTAB ┆ … ┆ 01/02/202 ┆ 02/10/202 ┆ 01/02/202 ┆ Internal/ │\n",
       "│        ┆ ENVIRONMEN ┆            ┆ LE        ┆   ┆ 4         ┆ 5         ┆ 4         ┆ External  │\n",
       "│        ┆ T          ┆            ┆ MANAGER   ┆   ┆           ┆           ┆           ┆           │\n",
       "│        ┆ PROTECTION ┆            ┆           ┆   ┆           ┆           ┆           ┆           │\n",
       "└────────┴────────────┴────────────┴───────────┴───┴───────────┴───────────┴───────────┴───────────┘"
      ],
      "text/html": [
       "<div><style>\n",
       ".dataframe > thead > tr,\n",
       ".dataframe > tbody > tr {\n",
       "  text-align: right;\n",
       "  white-space: pre-wrap;\n",
       "}\n",
       "</style>\n",
       "<small>shape: (5, 30)</small><table border=\"1\" class=\"dataframe\"><thead><tr><th>Job ID</th><th>Agency</th><th># Of Positions</th><th>Business Title</th><th>Civil Service Title</th><th>Title Classification</th><th>Title Code No</th><th>Level</th><th>Job Category</th><th>Full-Time/Part-Time indicator</th><th>Career Level</th><th>Salary Range From</th><th>Salary Range To</th><th>Salary Frequency</th><th>Work Location</th><th>Division/Work Unit</th><th>Job Description</th><th>Minimum Qual Requirements</th><th>Preferred Skills</th><th>Additional Information</th><th>To Apply</th><th>Hours/Shift</th><th>Work Location 1</th><th>Recruitment Contact</th><th>Residency Requirement</th><th>Post Until</th><th>Posting Updated</th><th>Process Date</th><th>Posting Date</th><th>Posting Type</th></tr><tr><td>i64</td><td>str</td><td>i64</td><td>str</td><td>str</td><td>str</td><td>str</td><td>str</td><td>str</td><td>str</td><td>str</td><td>f64</td><td>f64</td><td>str</td><td>str</td><td>str</td><td>str</td><td>str</td><td>str</td><td>str</td><td>str</td><td>str</td><td>str</td><td>str</td><td>str</td><td>str</td><td>str</td><td>str</td><td>str</td><td>str</td></tr></thead><tbody><tr><td>695632</td><td>&quot;DEPARTMENT OF TRANSPORTATION&quot;</td><td>1</td><td>&quot;Energy Analyst&quot;</td><td>&quot;STAFF ANALYST&quot;</td><td>&quot;Competitive-1&quot;</td><td>&quot;12626&quot;</td><td>&quot;02&quot;</td><td>&quot;Administration &amp; Human Resourc…</td><td>&quot;F&quot;</td><td>&quot;Entry-Level&quot;</td><td>70310.0</td><td>90049.0</td><td>&quot;Annual&quot;</td><td>&quot;55 Water St Ny Ny&quot;</td><td>&quot;Facilities Management&quot;</td><td>&quot;***IN ORDER TO BE CONSIDERED F…</td><td>&quot;A master&#x27;s degree from an accr…</td><td>null</td><td>null</td><td>&quot;***IN ORDER TO BE CONSIDERED F…</td><td>null</td><td>null</td><td>null</td><td>&quot;New York City residency is gen…</td><td>null</td><td>&quot;01/17/2025&quot;</td><td>&quot;02/10/2025&quot;</td><td>&quot;01/01/2025&quot;</td><td>&quot;Internal/External&quot;</td></tr><tr><td>615441</td><td>&quot;DEPT OF ENVIRONMENT PROTECTION&quot;</td><td>1</td><td>&quot;ACCOUNTABLE MANAGER&quot;</td><td>&quot;ADMINISTRATIVE CONSTRUCTION PR&quot;</td><td>&quot;Competitive-1&quot;</td><td>&quot;82991&quot;</td><td>&quot;M2&quot;</td><td>&quot;Engineering, Architecture, &amp; P…</td><td>&quot;F&quot;</td><td>&quot;Manager&quot;</td><td>64922.0</td><td>173486.0</td><td>&quot;Annual&quot;</td><td>&quot;2398 State Rt 28A, Olive Bridg&quot;</td><td>&quot;UPSTATE CAPITAL CONSTR. - IFA&quot;</td><td>&quot;The NYC Department of Environm…</td><td>&quot;At least six years of full-tim…</td><td>&quot;â¢\tExcellent oral and written…</td><td>null</td><td>&quot;To apply click Apply Now&nbsp;&nbsp;DEP …</td><td>null</td><td>null</td><td>null</td><td>&quot;New York City Residency is not…</td><td>null</td><td>&quot;01/02/2024&quot;</td><td>&quot;02/10/2025&quot;</td><td>&quot;01/02/2024&quot;</td><td>&quot;Internal/External&quot;</td></tr><tr><td>619255</td><td>&quot;DEPT OF ENVIRONMENT PROTECTION&quot;</td><td>1</td><td>&quot;Chief Inspector&quot;</td><td>&quot;ASSOCIATE WATER USE INSPECTOR&quot;</td><td>&quot;Competitive-1&quot;</td><td>&quot;34620&quot;</td><td>&quot;03&quot;</td><td>&quot;Public Safety, Inspections, &amp; …</td><td>&quot;F&quot;</td><td>&quot;Experienced (non-manager)&quot;</td><td>69435.0</td><td>87548.0</td><td>&quot;Annual&quot;</td><td>&quot;233 Schermerhorn Street, Bklyn&quot;</td><td>&quot;BROOKLYN INSPECTION&quot;</td><td>&quot;The NYC Department of Environm…</td><td>&quot;1. Three years of satisfactory…</td><td>null</td><td>&quot;Appointments are subject to OM…</td><td>&quot;To apply click the âApply No…</td><td>&quot;35 hour week.&quot;</td><td>&quot;250 LIVINGSTON STREET, BROOKLY…</td><td>null</td><td>&quot;New York City residency is gen…</td><td>null</td><td>&quot;03/04/2024&quot;</td><td>&quot;02/10/2025&quot;</td><td>&quot;01/02/2024&quot;</td><td>&quot;Internal&quot;</td></tr><tr><td>614778</td><td>&quot;DEPT OF ENVIRONMENT PROTECTION&quot;</td><td>1</td><td>&quot;ACCOUNTABLE MANAGER&quot;</td><td>&quot;CIVIL ENGINEER&quot;</td><td>&quot;Competitive-1&quot;</td><td>&quot;20215&quot;</td><td>&quot;03&quot;</td><td>&quot;Engineering, Architecture, &amp; P…</td><td>&quot;F&quot;</td><td>&quot;Experienced (non-manager)&quot;</td><td>98470.0</td><td>133496.0</td><td>&quot;Annual&quot;</td><td>&quot;71 Smith Avenue, Kingston, Ny&quot;</td><td>&quot;UPSTATE CAPITAL CONSTR. - IFA&quot;</td><td>&quot;The NYC Department of Environm…</td><td>&quot;(1) Four (4) years of full-tim…</td><td>&quot;â¢\tProficient oral and writte…</td><td>null</td><td>&quot;To apply click Apply Now&nbsp;&nbsp;DEP …</td><td>null</td><td>null</td><td>null</td><td>&quot;New York City Residency is not…</td><td>null</td><td>&quot;01/02/2024&quot;</td><td>&quot;02/10/2025&quot;</td><td>&quot;01/02/2024&quot;</td><td>&quot;Internal/External&quot;</td></tr><tr><td>618360</td><td>&quot;DEPT OF ENVIRONMENT PROTECTION&quot;</td><td>1</td><td>&quot;ACCOUNTABLE MANAGER&quot;</td><td>&quot;ASSOCIATE PROJECT MANAGER&quot;</td><td>&quot;Competitive-1&quot;</td><td>&quot;22427&quot;</td><td>&quot;02&quot;</td><td>&quot;Engineering, Architecture, &amp; P…</td><td>&quot;F&quot;</td><td>&quot;Experienced (non-manager)&quot;</td><td>81571.0</td><td>119554.0</td><td>&quot;Annual&quot;</td><td>&quot;465 Columbus Ave. Valhalla, Ny&quot;</td><td>&quot;UPSTATE CAPITAL CONSTR. - IFA&quot;</td><td>&quot;The NYC Department of Environm…</td><td>&quot;One year of full-time satisfac…</td><td>null</td><td>null</td><td>null</td><td>null</td><td>null</td><td>null</td><td>&quot;New York City Residency is not…</td><td>null</td><td>&quot;01/02/2024&quot;</td><td>&quot;02/10/2025&quot;</td><td>&quot;01/02/2024&quot;</td><td>&quot;Internal/External&quot;</td></tr></tbody></table></div>"
      ]
     },
     "execution_count": 78,
     "metadata": {},
     "output_type": "execute_result"
    }
   ],
   "execution_count": 78
  },
  {
   "metadata": {
    "ExecuteTime": {
     "end_time": "2025-02-16T23:49:52.332497Z",
     "start_time": "2025-02-16T23:49:52.310001Z"
    }
   },
   "cell_type": "code",
   "source": "address_list = jobs_cleaned[\"Work Location\"].unique().to_list()",
   "id": "931132c93a0fe487",
   "outputs": [],
   "execution_count": 79
  },
  {
   "metadata": {
    "ExecuteTime": {
     "end_time": "2025-02-16T23:51:17.941147Z",
     "start_time": "2025-02-16T23:49:54.974829Z"
    }
   },
   "cell_type": "code",
   "source": [
    "import geocoder\n",
    "\n",
    "api_key = \"mOUAaY7zU3nx1FQybizFXuXZ0m97i3Iw\"\n",
    "\n",
    "# Perform geocoding\n",
    "geocoded_results = []\n",
    "\n",
    "for address in address_list:\n",
    "    g = geocoder.tomtom(address, key=api_key)\n",
    "    # Check if the geocoding was successful\n",
    "    if g.ok:\n",
    "        # Retrieve latitude and longitude\n",
    "        latlng = g.latlng\n",
    "        geocoded_results.append((address, latlng[0],latlng[1]))\n",
    "    else:\n",
    "        geocoded_results.append((address, None, None))\n"
   ],
   "id": "4466f5ca70fec55a",
   "outputs": [
    {
     "name": "stderr",
     "output_type": "stream",
     "text": [
      "Status code 404 from https://api.tomtom.com/search/2/geocode/QN/SI Neighborhood 03.json: ERROR - 404 Client Error: Not Found for url: https://api.tomtom.com/search/2/geocode/QN/SI%20Neighborhood%2003.json?key=mOUAaY7zU3nx1FQybizFXuXZ0m97i3Iw&limit=1\n",
      "Status code 404 from https://api.tomtom.com/search/2/geocode/19 1/2 Pitt St., N.Y..json: ERROR - 404 Client Error: Not Found for url: https://api.tomtom.com/search/2/geocode/19%201/2%20Pitt%20St.,%20N.Y..json?key=mOUAaY7zU3nx1FQybizFXuXZ0m97i3Iw&limit=1\n",
      "Status code 404 from https://api.tomtom.com/search/2/geocode/BK/SI BRIEFING REVIEW.json: ERROR - 404 Client Error: Not Found for url: https://api.tomtom.com/search/2/geocode/BK/SI%20BRIEFING%20REVIEW.json?key=mOUAaY7zU3nx1FQybizFXuXZ0m97i3Iw&limit=1\n",
      "Status code 404 from https://api.tomtom.com/search/2/geocode/1 Hogan Pl./100 Centre St., N..json: ERROR - 404 Client Error: Not Found for url: https://api.tomtom.com/search/2/geocode/1%20Hogan%20Pl./100%20Centre%20St.,%20N..json?key=mOUAaY7zU3nx1FQybizFXuXZ0m97i3Iw&limit=1\n"
     ]
    }
   ],
   "execution_count": 80
  },
  {
   "metadata": {
    "ExecuteTime": {
     "end_time": "2025-02-16T23:51:18.083868Z",
     "start_time": "2025-02-16T23:51:18.054167Z"
    }
   },
   "cell_type": "code",
   "source": [
    "address_df = pl.DataFrame(geocoded_results,schema=[\"Work Location\", \"Latitude\", \"Longitude\"],orient=\"row\")\n",
    "len(address_df)"
   ],
   "id": "d53e177517c9b40a",
   "outputs": [
    {
     "data": {
      "text/plain": [
       "300"
      ]
     },
     "execution_count": 81,
     "metadata": {},
     "output_type": "execute_result"
    }
   ],
   "execution_count": 81
  },
  {
   "metadata": {
    "ExecuteTime": {
     "end_time": "2025-02-16T23:51:18.132258Z",
     "start_time": "2025-02-16T23:51:18.122290Z"
    }
   },
   "cell_type": "code",
   "source": "address_df.head()",
   "id": "3c6713a240d4926a",
   "outputs": [
    {
     "data": {
      "text/plain": [
       "shape: (5, 3)\n",
       "┌──────────────────────────────┬───────────┬────────────┐\n",
       "│ Work Location                ┆ Latitude  ┆ Longitude  │\n",
       "│ ---                          ┆ ---       ┆ ---        │\n",
       "│ str                          ┆ f64       ┆ f64        │\n",
       "╞══════════════════════════════╪═══════════╪════════════╡\n",
       "│ 303 9Th Ave., N.Y.           ┆ 40.749564 ┆ -73.999791 │\n",
       "│ Manhattan Neighborhood 07    ┆ null      ┆ null       │\n",
       "│ 3701 Jerome Ave, Bx NY 10467 ┆ 40.888154 ┆ -73.878304 │\n",
       "│ 1826 Arthur Ave., Bronx      ┆ 40.844119 ┆ -73.894274 │\n",
       "│ 101 Tyrellan Avenue          ┆ 40.526603 ┆ -74.228918 │\n",
       "└──────────────────────────────┴───────────┴────────────┘"
      ],
      "text/html": [
       "<div><style>\n",
       ".dataframe > thead > tr,\n",
       ".dataframe > tbody > tr {\n",
       "  text-align: right;\n",
       "  white-space: pre-wrap;\n",
       "}\n",
       "</style>\n",
       "<small>shape: (5, 3)</small><table border=\"1\" class=\"dataframe\"><thead><tr><th>Work Location</th><th>Latitude</th><th>Longitude</th></tr><tr><td>str</td><td>f64</td><td>f64</td></tr></thead><tbody><tr><td>&quot;303 9Th Ave., N.Y.&quot;</td><td>40.749564</td><td>-73.999791</td></tr><tr><td>&quot;Manhattan Neighborhood 07&quot;</td><td>null</td><td>null</td></tr><tr><td>&quot;3701 Jerome Ave, Bx NY 10467&quot;</td><td>40.888154</td><td>-73.878304</td></tr><tr><td>&quot;1826 Arthur Ave., Bronx&quot;</td><td>40.844119</td><td>-73.894274</td></tr><tr><td>&quot;101 Tyrellan Avenue&quot;</td><td>40.526603</td><td>-74.228918</td></tr></tbody></table></div>"
      ]
     },
     "execution_count": 82,
     "metadata": {},
     "output_type": "execute_result"
    }
   ],
   "execution_count": 82
  },
  {
   "metadata": {
    "ExecuteTime": {
     "end_time": "2025-02-16T23:51:18.339365Z",
     "start_time": "2025-02-16T23:51:18.326147Z"
    }
   },
   "cell_type": "code",
   "source": "jobs_cleaned.columns",
   "id": "5b46ffafd1433eb6",
   "outputs": [
    {
     "data": {
      "text/plain": [
       "['Job ID',\n",
       " 'Agency',\n",
       " '# Of Positions',\n",
       " 'Business Title',\n",
       " 'Civil Service Title',\n",
       " 'Title Classification',\n",
       " 'Title Code No',\n",
       " 'Level',\n",
       " 'Job Category',\n",
       " 'Full-Time/Part-Time indicator',\n",
       " 'Career Level',\n",
       " 'Salary Range From',\n",
       " 'Salary Range To',\n",
       " 'Salary Frequency',\n",
       " 'Work Location',\n",
       " 'Division/Work Unit',\n",
       " 'Job Description',\n",
       " 'Minimum Qual Requirements',\n",
       " 'Preferred Skills',\n",
       " 'Additional Information',\n",
       " 'To Apply',\n",
       " 'Hours/Shift',\n",
       " 'Work Location 1',\n",
       " 'Recruitment Contact',\n",
       " 'Residency Requirement',\n",
       " 'Post Until',\n",
       " 'Posting Updated',\n",
       " 'Process Date',\n",
       " 'Posting Date',\n",
       " 'Posting Type']"
      ]
     },
     "execution_count": 83,
     "metadata": {},
     "output_type": "execute_result"
    }
   ],
   "execution_count": 83
  },
  {
   "metadata": {
    "ExecuteTime": {
     "end_time": "2025-02-17T00:02:32.051660Z",
     "start_time": "2025-02-17T00:02:32.010578Z"
    }
   },
   "cell_type": "code",
   "source": [
    "## Mapping the jobs coordinates with the correct addresses\n",
    "\n",
    "final_df = jobs_cleaned.join(address_df,on='Work Location',how=\"left\")"
   ],
   "id": "efe6401e1abd130f",
   "outputs": [],
   "execution_count": 90
  },
  {
   "metadata": {
    "ExecuteTime": {
     "end_time": "2025-02-17T15:46:34.497017Z",
     "start_time": "2025-02-17T15:46:33.727936Z"
    }
   },
   "cell_type": "code",
   "source": "final_df.write_parquet(\"C:/Users/Arnold/OneDrive/Desktop/Information Visualization/Project/infoviz-project/data/processed/jobs_cleaned.parquet\")",
   "id": "73870fd1188999b0",
   "outputs": [],
   "execution_count": 93
  }
 ],
 "metadata": {
  "kernelspec": {
   "display_name": "Python 3",
   "language": "python",
   "name": "python3"
  },
  "language_info": {
   "codemirror_mode": {
    "name": "ipython",
    "version": 2
   },
   "file_extension": ".py",
   "mimetype": "text/x-python",
   "name": "python",
   "nbconvert_exporter": "python",
   "pygments_lexer": "ipython2",
   "version": "2.7.6"
  }
 },
 "nbformat": 4,
 "nbformat_minor": 5
}
