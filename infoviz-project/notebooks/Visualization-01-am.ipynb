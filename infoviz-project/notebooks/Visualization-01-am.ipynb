{
 "cells": [
  {
   "cell_type": "code",
   "id": "a905c4d996e14fbb",
   "metadata": {
    "ExecuteTime": {
     "end_time": "2025-02-25T19:38:07.240965Z",
     "start_time": "2025-02-25T19:38:07.144780Z"
    }
   },
   "source": [
    "from dash import Dash, html, dcc\n",
    "import dash_bootstrap_components as dbc\n",
    "import polars as pl\n",
    "import plotly.express as px\n",
    "\n",
    "df = pl.read_parquet(\n",
    "    \"C:/Users/Arnold/OneDrive/Desktop/Information Visualization/Project/infoviz-project/data/processed/jobs_cleaned.parquet\"\n",
    ")"
   ],
   "outputs": [],
   "execution_count": 5
  },
  {
   "metadata": {
    "ExecuteTime": {
     "end_time": "2025-02-25T19:38:08.783143Z",
     "start_time": "2025-02-25T19:38:08.754929Z"
    }
   },
   "cell_type": "code",
   "source": [
    "\n",
    "# Finding top 5 depts\n",
    "\n",
    "top_depts = df.group_by(\"Business Title\").agg(pl.col(\"# Of Positions\").sum()).sort(\"# Of Positions\",descending=True)\n",
    "\n",
    "top_depts.head()\n"
   ],
   "id": "fd91eb9e85392548",
   "outputs": [
    {
     "data": {
      "text/plain": [
       "shape: (5, 2)\n",
       "┌─────────────────────────────────┬────────────────┐\n",
       "│ Business Title                  ┆ # Of Positions │\n",
       "│ ---                             ┆ ---            │\n",
       "│ str                             ┆ i64            │\n",
       "╞═════════════════════════════════╪════════════════╡\n",
       "│ Maintenance Worker              ┆ 405            │\n",
       "│ Secetary 3A                     ┆ 396            │\n",
       "│ Housing Assistant               ┆ 396            │\n",
       "│ City Seasonal Aide/Security Gu… ┆ 243            │\n",
       "│ Child Protective Specialist     ┆ 150            │\n",
       "└─────────────────────────────────┴────────────────┘"
      ],
      "text/html": [
       "<div><style>\n",
       ".dataframe > thead > tr,\n",
       ".dataframe > tbody > tr {\n",
       "  text-align: right;\n",
       "  white-space: pre-wrap;\n",
       "}\n",
       "</style>\n",
       "<small>shape: (5, 2)</small><table border=\"1\" class=\"dataframe\"><thead><tr><th>Business Title</th><th># Of Positions</th></tr><tr><td>str</td><td>i64</td></tr></thead><tbody><tr><td>&quot;Maintenance Worker&quot;</td><td>405</td></tr><tr><td>&quot;Secetary 3A&quot;</td><td>396</td></tr><tr><td>&quot;Housing Assistant&quot;</td><td>396</td></tr><tr><td>&quot;City Seasonal Aide/Security Gu…</td><td>243</td></tr><tr><td>&quot;Child Protective Specialist&quot;</td><td>150</td></tr></tbody></table></div>"
      ]
     },
     "execution_count": 6,
     "metadata": {},
     "output_type": "execute_result"
    }
   ],
   "execution_count": 6
  },
  {
   "metadata": {
    "ExecuteTime": {
     "end_time": "2025-02-25T19:38:13.032519Z",
     "start_time": "2025-02-25T19:38:13.009808Z"
    }
   },
   "cell_type": "code",
   "source": [
    "## Finding the common skills in the dept\n",
    "\n",
    "import nltk\n",
    "\n",
    "nltk.download('stopwords')"
   ],
   "id": "31a925ee15886b3a",
   "outputs": [
    {
     "name": "stderr",
     "output_type": "stream",
     "text": [
      "[nltk_data] Downloading package stopwords to\n",
      "[nltk_data]     C:\\Users\\Arnold\\AppData\\Roaming\\nltk_data...\n",
      "[nltk_data]   Package stopwords is already up-to-date!\n"
     ]
    },
    {
     "data": {
      "text/plain": [
       "True"
      ]
     },
     "execution_count": 7,
     "metadata": {},
     "output_type": "execute_result"
    }
   ],
   "execution_count": 7
  },
  {
   "metadata": {
    "ExecuteTime": {
     "end_time": "2025-02-25T19:38:27.918864Z",
     "start_time": "2025-02-25T19:38:27.887934Z"
    }
   },
   "cell_type": "code",
   "source": [
    "## Creating dictionary from the job description and the salary\n",
    "# temp_df = df.select(\n",
    "#     ((pl.col(\"Salary Range From\")+ pl.col(\"Salary Range To\"))/2).alias(\"Salary\"),\n",
    "#     \"Minimum Qual Requirements\"\n",
    "# )\n",
    "#\n",
    "# temp_df[\"Min\"]"
   ],
   "id": "dc817625a78efed0",
   "outputs": [],
   "execution_count": 9
  },
  {
   "metadata": {
    "ExecuteTime": {
     "end_time": "2025-02-25T19:38:32.780663Z",
     "start_time": "2025-02-25T19:38:31.913976Z"
    }
   },
   "cell_type": "code",
   "source": [
    "# Dash app initialization\n",
    "app = Dash(__name__, external_stylesheets=[dbc.themes.BOOTSTRAP])\n",
    "\n",
    "# Colors\n",
    "colors = {\n",
    "    'background': '#001F3F',\n",
    "    'text': '#FFFFFF',\n",
    "    'card': '#003366'\n",
    "}\n",
    "\n",
    "# Placeholder figures\n",
    "fig = px.scatter_mapbox(\n",
    "    df,\n",
    "    lat=\"Latitude\",\n",
    "    lon=\"Longitude\",\n",
    "    color=\"Career Level\",\n",
    "    hover_name=\"Business Title\",\n",
    "    hover_data={\"Latitude\": False, \"Longitude\": False},\n",
    "    zoom=10,\n",
    "    height=500\n",
    ")\n",
    "\n",
    "fig_depts = px.bar(\n",
    "    top_depts[:15],\n",
    "    x=\"Business Title\",\n",
    "    y=\"# Of Positions\"\n",
    ")\n",
    "\n",
    "# Styling updates\n",
    "fig.update_layout(\n",
    "    mapbox_style=\"carto-positron\",\n",
    "    mapbox_zoom=10,\n",
    "    mapbox_center={\"lat\": 40.7128, \"lon\": -74.0060},\n",
    "    margin={\"r\": 0, \"t\": 0, \"l\": 0, \"b\": 0}\n",
    ")\n",
    "\n",
    "fig.update_traces(\n",
    "    marker=dict(size=8, opacity=0.6),\n",
    "    selector=dict(mode=\"markers\"),\n",
    ")\n",
    "\n",
    "# Function to create cards\n",
    "def create_card(title, value):\n",
    "    return dbc.Card(\n",
    "        dbc.CardBody([\n",
    "            html.H5(title, className=\"card-title\", style={'color': 'white', 'fontWeight': 'bold'}),\n",
    "            html.H3(value, className=\"card-text\", style={'color': 'white', 'fontWeight': 'bold'})\n",
    "        ]),\n",
    "        style={\n",
    "            'backgroundColor': colors['card'],\n",
    "            'borderRadius': '10px',\n",
    "            'padding': '15px',\n",
    "            'textAlign': 'center',\n",
    "            'boxShadow': '2px 2px 10px rgba(0,0,0,0.3)',\n",
    "            'width': '100%'\n",
    "        }\n",
    "    )\n",
    "\n",
    "# Navbar\n",
    "navbar = dbc.NavbarSimple(\n",
    "    brand=\"NYC Federal Job Insights\",\n",
    "    brand_href=\"#\",\n",
    "    color=\"dark\",\n",
    "    dark=True\n",
    ")\n",
    "\n",
    "# Sidebar for filters\n",
    "sidebar = dbc.Col([\n",
    "    html.H4(\"Filter Jobs\", className=\"text-light mt-3\"),\n",
    "\n",
    "    # Job Search Input\n",
    "    dbc.InputGroup([\n",
    "        dbc.Input(placeholder=\"Search by job title...\", type=\"text\"),\n",
    "        dbc.Button(\"Search\", color=\"primary\")\n",
    "    ], className=\"mb-3\"),\n",
    "\n",
    "    # Dropdown for Career Level\n",
    "    html.Label(\"Career Level\", className=\"text-light\"),\n",
    "    dcc.Dropdown(\n",
    "        options=[\n",
    "            {\"label\": \"Entry Level\", \"value\": \"entry\"},\n",
    "            {\"label\": \"Mid Level\", \"value\": \"mid\"},\n",
    "            {\"label\": \"Senior Level\", \"value\": \"senior\"}\n",
    "        ],\n",
    "        placeholder=\"Select level\",\n",
    "        className=\"mb-3\"\n",
    "    ),\n",
    "\n",
    "    # Salary Range Slider\n",
    "    html.Label(\"Salary Range\", className=\"text-light\"),\n",
    "    dcc.RangeSlider(40000, 150000, step=5000, value=[50000, 100000],\n",
    "                    marks={50000: \"$50k\", 100000: \"$100k\", 150000: \"$150k\"},\n",
    "                    className=\"mb-3\"),\n",
    "\n",
    "    # Job Type Checkbox\n",
    "    html.Label(\"Job Type\", className=\"text-light\"),\n",
    "    dbc.Checklist(\n",
    "        options=[\n",
    "            {\"label\": \"Full-time\", \"value\": \"full\"},\n",
    "            {\"label\": \"Part-time\", \"value\": \"part\"},\n",
    "            {\"label\": \"Remote\", \"value\": \"remote\"}\n",
    "        ],\n",
    "        inline=True,\n",
    "        className=\"mb-3\"\n",
    "    )\n",
    "], width=3, className=\"bg-dark p-3 text-light\")\n",
    "\n",
    "# App layout\n",
    "app.layout = dbc.Container([\n",
    "    navbar,\n",
    "\n",
    "    dbc.Row([\n",
    "        sidebar,\n",
    "\n",
    "        dbc.Col([\n",
    "            # Job Statistics\n",
    "            dbc.Row([\n",
    "                dbc.Col(create_card(\"Total Jobs Posted\", \"2008\"), width=4),\n",
    "                dbc.Col(create_card(\"Top Hiring Dept.\", \"Dept. of Justice\"), width=4),\n",
    "                dbc.Col(create_card(\"Avg. Salary\", \"$82,000\"), width=4)\n",
    "            ], className=\"mb-4\"),\n",
    "\n",
    "            # Map and Histogram Side by Side\n",
    "            dbc.Row([\n",
    "                dbc.Col(dcc.Graph(figure=fig), width=6),\n",
    "                dbc.Col(dcc.Graph(figure=fig_depts), width=6)\n",
    "            ], className=\"mb-4\"),\n",
    "\n",
    "            # # Placeholder for Job Application Resources\n",
    "            # html.Div([\n",
    "            #     html.H4(\"Job Application Resources\", className=\"text-light mb-3\"),\n",
    "            #     dbc.Row([\n",
    "            #         dbc.Col(dbc.Button(\"Resume Tips\", color=\"primary\", className=\"w-100\"), width=4),\n",
    "            #         dbc.Col(dbc.Button(\"Interview Preparation\", color=\"info\", className=\"w-100\"), width=4),\n",
    "            #         dbc.Col(dbc.Button(\"Application Process\", color=\"success\", className=\"w-100\"), width=4)\n",
    "            #     ])\n",
    "            # ], className=\"p-3 bg-secondary rounded\")\n",
    "        ], width=9)\n",
    "    ], className=\"mt-3\")\n",
    "], fluid=True)"
   ],
   "id": "8507d1c49a484d82",
   "outputs": [],
   "execution_count": 10
  },
  {
   "metadata": {
    "collapsed": true,
    "ExecuteTime": {
     "end_time": "2025-02-25T19:39:08.611402Z",
     "start_time": "2025-02-25T19:39:08.517314Z"
    }
   },
   "cell_type": "code",
   "source": [
    "\n",
    "# Run the app\n",
    "if __name__ == \"__main__\":\n",
    "    app.run_server(debug=True)"
   ],
   "id": "initial_id",
   "outputs": [
    {
     "data": {
      "text/plain": [
       "<IPython.lib.display.IFrame at 0x22c5d6acf50>"
      ],
      "text/html": [
       "\n",
       "        <iframe\n",
       "            width=\"100%\"\n",
       "            height=\"650\"\n",
       "            src=\"http://127.0.0.1:8050/\"\n",
       "            frameborder=\"0\"\n",
       "            allowfullscreen\n",
       "            \n",
       "        ></iframe>\n",
       "        "
      ]
     },
     "metadata": {},
     "output_type": "display_data"
    }
   ],
   "execution_count": 11
  },
  {
   "metadata": {
    "ExecuteTime": {
     "end_time": "2025-02-25T19:37:53.368979400Z",
     "start_time": "2025-02-17T18:04:15.113069Z"
    }
   },
   "cell_type": "code",
   "source": "df.columns",
   "id": "60997bd4ea3b4129",
   "outputs": [
    {
     "data": {
      "text/plain": [
       "['Job ID',\n",
       " 'Agency',\n",
       " '# Of Positions',\n",
       " 'Business Title',\n",
       " 'Civil Service Title',\n",
       " 'Title Classification',\n",
       " 'Title Code No',\n",
       " 'Level',\n",
       " 'Job Category',\n",
       " 'Full-Time/Part-Time indicator',\n",
       " 'Career Level',\n",
       " 'Salary Range From',\n",
       " 'Salary Range To',\n",
       " 'Salary Frequency',\n",
       " 'Work Location',\n",
       " 'Division/Work Unit',\n",
       " 'Job Description',\n",
       " 'Minimum Qual Requirements',\n",
       " 'Preferred Skills',\n",
       " 'Additional Information',\n",
       " 'To Apply',\n",
       " 'Hours/Shift',\n",
       " 'Work Location 1',\n",
       " 'Recruitment Contact',\n",
       " 'Residency Requirement',\n",
       " 'Post Until',\n",
       " 'Posting Updated',\n",
       " 'Process Date',\n",
       " 'Posting Date',\n",
       " 'Posting Type',\n",
       " 'Latitude',\n",
       " 'Longitude']"
      ]
     },
     "execution_count": 34,
     "metadata": {},
     "output_type": "execute_result"
    }
   ],
   "execution_count": 34
  }
 ],
 "metadata": {
  "kernelspec": {
   "display_name": "Python 3",
   "language": "python",
   "name": "python3"
  },
  "language_info": {
   "codemirror_mode": {
    "name": "ipython",
    "version": 2
   },
   "file_extension": ".py",
   "mimetype": "text/x-python",
   "name": "python",
   "nbconvert_exporter": "python",
   "pygments_lexer": "ipython2",
   "version": "2.7.6"
  }
 },
 "nbformat": 4,
 "nbformat_minor": 5
}
